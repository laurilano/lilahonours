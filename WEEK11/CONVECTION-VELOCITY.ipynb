{
 "cells": [
  {
   "cell_type": "markdown",
   "id": "c5f6b585-5189-4c8b-b54d-c6630c28de1c",
   "metadata": {},
   "source": [
    "# PLUME VELOCITY"
   ]
  },
  {
   "cell_type": "code",
   "execution_count": 4,
   "id": "a2fa6ea2-8795-433d-bfde-b2d138007a1f",
   "metadata": {},
   "outputs": [],
   "source": [
    "import numpy as np\n",
    "import matplotlib.pyplot as plt\n",
    "from scipy.interpolate import NearestNDInterpolator\n",
    "import scipy.io\n",
    "\n",
    "from cmcrameri import cm\n",
    "import numpy as np\n",
    "import matplotlib.pyplot as plt\n",
    "import matplotlib.patches as patches\n",
    "import pandas as pd\n",
    "import os\n",
    "import h5py\n",
    "\n",
    "# Define the data folder - must i nclude .h5 cas and dat files.\n",
    "#data_folder = r\"D:\\2024 - Thermal Amplifiers - KC\\Tr=1.1\\Lauren\\\\\"\n",
    "#data_folder = r\"E:\\TR_1.0\\\\\"\n",
    "#data_folder = r\"E:\\L5\\\\\"\n",
    "data_folder = \"/Volumes/ThermalAmp/TR1.8_new/\"\n",
    "\n",
    "#from cmcrameri import cm"
   ]
  },
  {
   "cell_type": "code",
   "execution_count": 36,
   "id": "1bf8080f-b336-43f0-947f-2e95992374ee",
   "metadata": {},
   "outputs": [],
   "source": [
    "case_files = [data_folder+f for f in os.listdir(data_folder) if f.endswith('.cas.post')]\n",
    "case_files = [f for f in case_files if \"/._\" not in f]\n",
    "\n",
    "fname = os.path.join(data_folder, case_files[0])\n",
    "\n",
    "# Read the mesh data from the HDF5 file\n",
    "with h5py.File(fname, 'r') as f:\n",
    "    vertex_list = np.transpose(f['/meshes/1.post/nodes/coords/1'][:])\n",
    "    wallcoords = np.transpose(f['/meshes/1.post/nodes/coords/2'][:])\n",
    "\n",
    "# Extract NodeX and NodeY\n",
    "node_x = vertex_list[0]\n",
    "node_y = vertex_list[1]\n",
    "WallX = wallcoords[0]\n",
    "WallY = wallcoords[1]"
   ]
  },
  {
   "cell_type": "code",
   "execution_count": 67,
   "id": "9fb2240a-ba8c-48ab-b4ea-24433977278c",
   "metadata": {},
   "outputs": [
    {
     "data": {
      "text/plain": [
       "np.float64(-0.015)"
      ]
     },
     "execution_count": 67,
     "metadata": {},
     "output_type": "execute_result"
    }
   ],
   "source": [
    "round(np.mean(WallY), 3)"
   ]
  },
  {
   "cell_type": "code",
   "execution_count": 7,
   "id": "dc3a185d-de3d-4bf2-8f31-a642929b5b6b",
   "metadata": {},
   "outputs": [
    {
     "name": "stdout",
     "output_type": "stream",
     "text": [
      "10000\n"
     ]
    }
   ],
   "source": [
    "# Define constants\n",
    "tw = 308\n",
    "yw = -0.015\n",
    "\n",
    "# Find *dat.post files\n",
    "data_files = [data_folder+f for f in os.listdir(data_folder) if f.endswith('.dat.post')]\n",
    "data_files = [f for f in data_files if \"/._\" not in f]\n",
    "\n",
    "def get_time(data_file):\n",
    "    #return float(data_file.split(\".\")[0].split(\"-\")[-1])  #My directories\n",
    "    #return float(data_file.split(\".\")[1].split(\"-\"))  #works with the main KC directory + Grace's \n",
    "    return float(data_file.split(\".\")[1].split(\"-\")[-1])\n",
    "\n",
    "data_files = sorted(data_files, key=get_time)\n",
    "print(len(data_files))\n",
    "\n",
    "# DOMAIN PARAMETERS - only for plotting purposes.\n",
    "Ypixels = 1080\n",
    "XMIN    = -0.25\n",
    "XMAX    = 0.25\n",
    "YMIN    = -0.015\n",
    "YMAX    = 0.085\n",
    "AspectRatio     = (XMAX-XMIN)/(YMAX-YMIN)\n",
    "Xpositions      = np.linspace(XMIN,XMAX,int(Ypixels*AspectRatio))\n",
    "Ypositions      = np.linspace(YMAX,YMIN,Ypixels)\n",
    "[xgrid,ygrid]   = np.meshgrid(Xpositions,Ypositions)\n",
    "Clim = [300, 310]\n",
    "\n",
    "\n",
    "def get_mean_contour(node_x, node_y, mean_SI):\n",
    "    \"\"\"Map cell centroid coordinates to zvalues from a datafile.\n",
    "    Interpolates the cell centers + associated z value to a uniform grid\n",
    "    for plotting purposes.\n",
    "    \"\"\"\n",
    "    \n",
    "    from scipy.interpolate import griddata\n",
    "    SI = griddata((node_x, node_y), mean_SI, (xgrid, ygrid), method='nearest', fill_value=np.nan)\n",
    "    return SI\n",
    "\n",
    "\n",
    "def get_T(node_x, node_y, data_file):\n",
    "    \"\"\"Map cell centroid coordinates to zvalues from a datafile.\n",
    "    Interpolates the cell centers + associated z value to a uniform grid\n",
    "    for plotting purposes.\n",
    "    \"\"\"\n",
    "\n",
    "    # Read temperature and velocity data from the HDF5 file\n",
    "    with h5py.File(data_file, 'r') as f:\n",
    "        T = f['/results/1.post/mixture/nodes/Static Temperature/1'][:]\n",
    "        #U = f['/results/1.post/mixture/nodes/X Velocity/1'][:]\n",
    "        #V = f['/results/1.post/mixture/nodes/Y Velocity/1'][:]\n",
    "\n",
    "        a = f['/settings/Common/'][:]   \n",
    "        flowtime = float(a[0].split()[17].decode('utf-8').split('\"')[1])\n",
    "        timestep = float(a[0].split()[14].decode('utf-8').split('\"')[1])\n",
    "\n",
    "        \n",
    "        return flowtime, timestep, T"
   ]
  },
  {
   "cell_type": "code",
   "execution_count": 10,
   "id": "fe076605-8702-47ef-a9f6-89e9aac411c6",
   "metadata": {},
   "outputs": [
    {
     "name": "stdout",
     "output_type": "stream",
     "text": [
      "env: PYTHONWARNINGS=ignore::UserWarning\n"
     ]
    },
    {
     "name": "stderr",
     "output_type": "stream",
     "text": [
      "[Parallel(n_jobs=-1)]: Using backend ThreadingBackend with 10 concurrent workers.\n",
      "[Parallel(n_jobs=-1)]: Done  30 tasks      | elapsed:    0.3s\n",
      "[Parallel(n_jobs=-1)]: Done 180 tasks      | elapsed:    5.1s\n",
      "[Parallel(n_jobs=-1)]: Done 430 tasks      | elapsed:   17.6s\n",
      "[Parallel(n_jobs=-1)]: Done 780 tasks      | elapsed:   35.4s\n",
      "[Parallel(n_jobs=-1)]: Done 1230 tasks      | elapsed:   58.5s\n",
      "[Parallel(n_jobs=-1)]: Done 1780 tasks      | elapsed:  1.4min\n",
      "[Parallel(n_jobs=-1)]: Done 2430 tasks      | elapsed:  2.0min\n",
      "[Parallel(n_jobs=-1)]: Done 3180 tasks      | elapsed:  2.6min\n",
      "[Parallel(n_jobs=-1)]: Done 4030 tasks      | elapsed:  3.3min\n",
      "[Parallel(n_jobs=-1)]: Done 4980 tasks      | elapsed:  4.1min\n",
      "[Parallel(n_jobs=-1)]: Done 6030 tasks      | elapsed:  5.0min\n",
      "[Parallel(n_jobs=-1)]: Done 7180 tasks      | elapsed:  6.0min\n",
      "[Parallel(n_jobs=-1)]: Done 8430 tasks      | elapsed:  7.1min\n",
      "[Parallel(n_jobs=-1)]: Done 9780 tasks      | elapsed:  8.2min\n",
      "[Parallel(n_jobs=-1)]: Done 10000 out of 10000 | elapsed:  8.4min finished\n"
     ]
    }
   ],
   "source": [
    "from joblib import Parallel, delayed\n",
    "%env PYTHONWARNINGS=ignore::UserWarning\n",
    "\n",
    "# Use LokyBackend tso protect the h5py routine\n",
    "all_T = Parallel(n_jobs=-1, backend='threading', verbose=1) \\\n",
    "(delayed(get_T) \\\n",
    " (node_x, node_y, data_file\n",
    " ) for data_file in data_files[0:10000])"
   ]
  },
  {
   "cell_type": "code",
   "execution_count": 13,
   "id": "b70d88f7-9399-49b4-91ea-30ec84a9382f",
   "metadata": {},
   "outputs": [
    {
     "name": "stdout",
     "output_type": "stream",
     "text": [
      "(10000, 235616)\n"
     ]
    }
   ],
   "source": [
    "\n",
    "all_T = np.array(all_T, dtype=object)\n",
    "Ts = all_T[:,2]\n",
    "\n",
    "T = np.vstack(Ts)\n",
    "\n",
    "# Check the shape to ensure it is (500, 235616)\n",
    "print(T.shape)  # Should output (500, 235616)"
   ]
  },
  {
   "cell_type": "code",
   "execution_count": 39,
   "id": "34730725-d121-49e8-ab8e-97d93f902006",
   "metadata": {},
   "outputs": [
    {
     "data": {
      "text/plain": [
       "(524,)"
      ]
     },
     "execution_count": 39,
     "metadata": {},
     "output_type": "execute_result"
    }
   ],
   "source": [
    "Ybot.shape"
   ]
  },
  {
   "cell_type": "code",
   "execution_count": 100,
   "id": "2fe150cd-751d-48ac-a804-f9dfd18e80da",
   "metadata": {},
   "outputs": [
    {
     "data": {
      "image/png": "[encoded data removed]",
      "text/plain": [
       "<Figure size 640x480 with 2 Axes>"
      ]
     },
     "metadata": {},
     "output_type": "display_data"
    }
   ],
   "source": [
    "# Check for DataInterpolant existence and create if not present\n",
    "DataInterpolant = NearestNDInterpolator(np.column_stack((node_x, node_y)), np.arange(len(node_x)))\n",
    "\n",
    "D = 0.01  \n",
    "L = (max(WallX) - min(WallX))/D \n",
    "Ybot = round(np.mean(WallY/D),3)\n",
    "\n",
    "FlowTime = all_T[:,0].astype(float) \n",
    "\n",
    "# Interpolation grid\n",
    "x = np.linspace(-L/2, L/2, 512 + 1)\n",
    "y = Ybot + D/2* np.ones_like(x)\n",
    "\n",
    "# Get nearest indices\n",
    "NearestIndices = DataInterpolant(x, y)\n",
    "\n",
    "# Calculate Ti\n",
    "Ti = (T[:, NearestIndices.astype(int)] - 298) / (308 - 298)\n",
    "\n",
    "# Plotting\n",
    "plt.figure()\n",
    "plt.imshow(Ti, aspect='auto', extent=[x[0], x[-1], FlowTime[0], FlowTime[-1]], origin='lower')\n",
    "plt.ylim(0, 40)\n",
    "plt.colorbar(label='Ti')\n",
    "plt.xlabel('$x/D$')\n",
    "plt.ylabel('$t$, [s]')\n",
    "\n",
    "# Uncomment the following sections as needed to implement additional functionality\n",
    "# Find local maxima (you may need to adjust this to fit your exact need)\n",
    "# TF = (Ti[1:] > Ti[:-1]) & (Ti[1:] > Ti[2:])  # Example for local maxima\n",
    "# TF[:, (np.abs(x) < 2) | (np.abs(x) > 18)] = False\n",
    "\n",
    "# TimeScale calculations (if applicable)\n",
    "# TimeScale = np.empty(TF.shape[1])\n",
    "# for ii in range(TF.shape[1]):\n",
    "#     t_ = FlowTime[TF[:, ii]]\n",
    "#     if t_.size > 0:\n",
    "#         TimeScale[ii] = np.mean(np.diff(t_))  # Using mean instead of trimmean for simplicity\n",
    "\n",
    "# Find indices for plotting local maxima\n",
    "# ix, iy = np.where(TF)\n",
    "# plt.plot(x[iy], FlowTime[ix], '.', color='k', markersize=2)\n",
    "\n",
    "# Example for plotting temperature evolution\n",
    "# i_ = np.random.randint(Ti.shape[1])\n",
    "# plt.figure()\n",
    "# plt.plot(FlowTime, Ti[:, i_])\n",
    "# plt.plot(FlowTime[TF[:, i_]], Ti[TF[:, i_], i_], 'ok')\n",
    "\n",
    "# More plots as needed...\n",
    "plt.show()"
   ]
  },
  {
   "cell_type": "code",
   "execution_count": 101,
   "id": "2e665cdd-7a9a-4a34-9a6e-40e064b034da",
   "metadata": {},
   "outputs": [
    {
     "data": {
      "text/plain": [
       "(0.0, 400.0)"
      ]
     },
     "execution_count": 101,
     "metadata": {},
     "output_type": "execute_result"
    },
    {
     "data": {
      "image/png": "[encoded data removed]",
      "text/plain": [
       "<Figure size 640x480 with 1 Axes>"
      ]
     },
     "metadata": {},
     "output_type": "display_data"
    }
   ],
   "source": [
    "plt.imshow(Ti)\n",
    "plt.ylim(0,400)"
   ]
  },
  {
   "cell_type": "code",
   "execution_count": 82,
   "id": "f562d683-b2ee-487a-b24e-dce9f6f0f621",
   "metadata": {},
   "outputs": [
    {
     "data": {
      "text/plain": [
       "array([[298.6154214 , 298.87431562, 299.17111546, ..., 299.21197418,\n",
       "        298.9056974 , 298.6372424 ],\n",
       "       [298.6143048 , 298.87297484, 299.1696133 , ..., 299.21148141,\n",
       "        298.90523144, 298.63690212],\n",
       "       [298.61309983, 298.87153166, 299.16799666, ..., 299.21088498,\n",
       "        298.9047033 , 298.63652744],\n",
       "       ...,\n",
       "       [298.66001165, 298.94410603, 299.26542086, ..., 299.18592715,\n",
       "        298.8850713 , 298.62229417],\n",
       "       [298.66159465, 298.94618563, 299.26822826, ..., 299.18508385,\n",
       "        298.88443759, 298.62185454],\n",
       "       [298.66283044, 298.94780469, 299.27047031, ..., 299.18428114,\n",
       "        298.88383402, 298.62143513]])"
      ]
     },
     "execution_count": 82,
     "metadata": {},
     "output_type": "execute_result"
    }
   ],
   "source": [
    "T[:, NearestIndices.astype(int)]"
   ]
  },
  {
   "cell_type": "code",
   "execution_count": 102,
   "id": "8d73c85f-84aa-4873-886f-ef03c9e613bf",
   "metadata": {},
   "outputs": [
    {
     "data": {
      "text/plain": [
       "[<matplotlib.lines.Line2D at 0xbf9b2be50>]"
      ]
     },
     "execution_count": 102,
     "metadata": {},
     "output_type": "execute_result"
    },
    {
     "data": {
      "image/png": "[encoded data removed]",
      "text/plain": [
       "<Figure size 640x480 with 1 Axes>"
      ]
     },
     "metadata": {},
     "output_type": "display_data"
    }
   ],
   "source": [
    "plt.plot(x,y)"
   ]
  },
  {
   "cell_type": "code",
   "execution_count": 103,
   "id": "d43f3e07-0b29-42cd-93dc-ccb11b37d3ba",
   "metadata": {},
   "outputs": [
    {
     "data": {
      "text/plain": [
       "array([-1.495, -1.495, -1.495, -1.495, -1.495, -1.495, -1.495, -1.495,\n",
       "       -1.495, -1.495, -1.495, -1.495, -1.495, -1.495, -1.495, -1.495,\n",
       "       -1.495, -1.495, -1.495, -1.495, -1.495, -1.495, -1.495, -1.495,\n",
       "       -1.495, -1.495, -1.495, -1.495, -1.495, -1.495, -1.495, -1.495,\n",
       "       -1.495, -1.495, -1.495, -1.495, -1.495, -1.495, -1.495, -1.495,\n",
       "       -1.495, -1.495, -1.495, -1.495, -1.495, -1.495, -1.495, -1.495,\n",
       "       -1.495, -1.495, -1.495, -1.495, -1.495, -1.495, -1.495, -1.495,\n",
       "       -1.495, -1.495, -1.495, -1.495, -1.495, -1.495, -1.495, -1.495,\n",
       "       -1.495, -1.495, -1.495, -1.495, -1.495, -1.495, -1.495, -1.495,\n",
       "       -1.495, -1.495, -1.495, -1.495, -1.495, -1.495, -1.495, -1.495,\n",
       "       -1.495, -1.495, -1.495, -1.495, -1.495, -1.495, -1.495, -1.495,\n",
       "       -1.495, -1.495, -1.495, -1.495, -1.495, -1.495, -1.495, -1.495,\n",
       "       -1.495, -1.495, -1.495, -1.495, -1.495, -1.495, -1.495, -1.495,\n",
       "       -1.495, -1.495, -1.495, -1.495, -1.495, -1.495, -1.495, -1.495,\n",
       "       -1.495, -1.495, -1.495, -1.495, -1.495, -1.495, -1.495, -1.495,\n",
       "       -1.495, -1.495, -1.495, -1.495, -1.495, -1.495, -1.495, -1.495,\n",
       "       -1.495, -1.495, -1.495, -1.495, -1.495, -1.495, -1.495, -1.495,\n",
       "       -1.495, -1.495, -1.495, -1.495, -1.495, -1.495, -1.495, -1.495,\n",
       "       -1.495, -1.495, -1.495, -1.495, -1.495, -1.495, -1.495, -1.495,\n",
       "       -1.495, -1.495, -1.495, -1.495, -1.495, -1.495, -1.495, -1.495,\n",
       "       -1.495, -1.495, -1.495, -1.495, -1.495, -1.495, -1.495, -1.495,\n",
       "       -1.495, -1.495, -1.495, -1.495, -1.495, -1.495, -1.495, -1.495,\n",
       "       -1.495, -1.495, -1.495, -1.495, -1.495, -1.495, -1.495, -1.495,\n",
       "       -1.495, -1.495, -1.495, -1.495, -1.495, -1.495, -1.495, -1.495,\n",
       "       -1.495, -1.495, -1.495, -1.495, -1.495, -1.495, -1.495, -1.495,\n",
       "       -1.495, -1.495, -1.495, -1.495, -1.495, -1.495, -1.495, -1.495,\n",
       "       -1.495, -1.495, -1.495, -1.495, -1.495, -1.495, -1.495, -1.495,\n",
       "       -1.495, -1.495, -1.495, -1.495, -1.495, -1.495, -1.495, -1.495,\n",
       "       -1.495, -1.495, -1.495, -1.495, -1.495, -1.495, -1.495, -1.495,\n",
       "       -1.495, -1.495, -1.495, -1.495, -1.495, -1.495, -1.495, -1.495,\n",
       "       -1.495, -1.495, -1.495, -1.495, -1.495, -1.495, -1.495, -1.495,\n",
       "       -1.495, -1.495, -1.495, -1.495, -1.495, -1.495, -1.495, -1.495,\n",
       "       -1.495, -1.495, -1.495, -1.495, -1.495, -1.495, -1.495, -1.495,\n",
       "       -1.495, -1.495, -1.495, -1.495, -1.495, -1.495, -1.495, -1.495,\n",
       "       -1.495, -1.495, -1.495, -1.495, -1.495, -1.495, -1.495, -1.495,\n",
       "       -1.495, -1.495, -1.495, -1.495, -1.495, -1.495, -1.495, -1.495,\n",
       "       -1.495, -1.495, -1.495, -1.495, -1.495, -1.495, -1.495, -1.495,\n",
       "       -1.495, -1.495, -1.495, -1.495, -1.495, -1.495, -1.495, -1.495,\n",
       "       -1.495, -1.495, -1.495, -1.495, -1.495, -1.495, -1.495, -1.495,\n",
       "       -1.495, -1.495, -1.495, -1.495, -1.495, -1.495, -1.495, -1.495,\n",
       "       -1.495, -1.495, -1.495, -1.495, -1.495, -1.495, -1.495, -1.495,\n",
       "       -1.495, -1.495, -1.495, -1.495, -1.495, -1.495, -1.495, -1.495,\n",
       "       -1.495, -1.495, -1.495, -1.495, -1.495, -1.495, -1.495, -1.495,\n",
       "       -1.495, -1.495, -1.495, -1.495, -1.495, -1.495, -1.495, -1.495,\n",
       "       -1.495, -1.495, -1.495, -1.495, -1.495, -1.495, -1.495, -1.495,\n",
       "       -1.495, -1.495, -1.495, -1.495, -1.495, -1.495, -1.495, -1.495,\n",
       "       -1.495, -1.495, -1.495, -1.495, -1.495, -1.495, -1.495, -1.495,\n",
       "       -1.495, -1.495, -1.495, -1.495, -1.495, -1.495, -1.495, -1.495,\n",
       "       -1.495, -1.495, -1.495, -1.495, -1.495, -1.495, -1.495, -1.495,\n",
       "       -1.495, -1.495, -1.495, -1.495, -1.495, -1.495, -1.495, -1.495,\n",
       "       -1.495, -1.495, -1.495, -1.495, -1.495, -1.495, -1.495, -1.495,\n",
       "       -1.495, -1.495, -1.495, -1.495, -1.495, -1.495, -1.495, -1.495,\n",
       "       -1.495, -1.495, -1.495, -1.495, -1.495, -1.495, -1.495, -1.495,\n",
       "       -1.495, -1.495, -1.495, -1.495, -1.495, -1.495, -1.495, -1.495,\n",
       "       -1.495, -1.495, -1.495, -1.495, -1.495, -1.495, -1.495, -1.495,\n",
       "       -1.495, -1.495, -1.495, -1.495, -1.495, -1.495, -1.495, -1.495,\n",
       "       -1.495, -1.495, -1.495, -1.495, -1.495, -1.495, -1.495, -1.495,\n",
       "       -1.495, -1.495, -1.495, -1.495, -1.495, -1.495, -1.495, -1.495,\n",
       "       -1.495, -1.495, -1.495, -1.495, -1.495, -1.495, -1.495, -1.495,\n",
       "       -1.495, -1.495, -1.495, -1.495, -1.495, -1.495, -1.495, -1.495,\n",
       "       -1.495, -1.495, -1.495, -1.495, -1.495, -1.495, -1.495, -1.495,\n",
       "       -1.495, -1.495, -1.495, -1.495, -1.495, -1.495, -1.495, -1.495,\n",
       "       -1.495, -1.495, -1.495, -1.495, -1.495, -1.495, -1.495, -1.495,\n",
       "       -1.495, -1.495, -1.495, -1.495, -1.495, -1.495, -1.495, -1.495,\n",
       "       -1.495])"
      ]
     },
     "execution_count": 103,
     "metadata": {},
     "output_type": "execute_result"
    }
   ],
   "source": [
    "y"
   ]
  },
  {
   "cell_type": "code",
   "execution_count": 64,
   "id": "6fe5fb4e-1266-4da6-8a71-547ac005a843",
   "metadata": {},
   "outputs": [
    {
     "data": {
      "text/plain": [
       "np.float64(-1.5)"
      ]
     },
     "execution_count": 64,
     "metadata": {},
     "output_type": "execute_result"
    }
   ],
   "source": [
    "Ybot"
   ]
  },
  {
   "cell_type": "code",
   "execution_count": null,
   "id": "9f744d74-f6d9-4a99-9515-9a16b33d4b49",
   "metadata": {},
   "outputs": [],
   "source": []
  }
 ],
 "metadata": {
  "kernelspec": {
   "display_name": "Python 3 (ipykernel)",
   "language": "python",
   "name": "python3"
  },
  "language_info": {
   "codemirror_mode": {
    "name": "ipython",
    "version": 3
   },
   "file_extension": ".py",
   "mimetype": "text/x-python",
   "name": "python",
   "nbconvert_exporter": "python",
   "pygments_lexer": "ipython3",
   "version": "3.11.9"
  }
 },
 "nbformat": 4,
 "nbformat_minor": 5
}
