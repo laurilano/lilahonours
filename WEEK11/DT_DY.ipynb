{
 "cells": [
  {
   "cell_type": "markdown",
   "id": "8cb9a9b9",
   "metadata": {},
   "source": [
    "# GET dT/dY for a TR case. "
   ]
  },
  {
   "cell_type": "code",
   "execution_count": 1,
   "id": "39c66e19",
   "metadata": {},
   "outputs": [],
   "source": [
    "import os\n",
    "import h5py\n",
    "import numpy as np\n",
    "from scipy.interpolate import griddata\n",
    "import matplotlib.pyplot as plt\n",
    "\n",
    "from cmcrameri import cm\n",
    "import numpy as np\n",
    "import matplotlib.pyplot as plt\n",
    "import matplotlib.patches as patches\n",
    "import pandas as pd\n",
    "import os\n",
    "import h5py\n",
    "\n",
    "# Define the data folder - must include .h5 cas and dat files.\n",
    "#data_folder = r\"D:\\2024 - Thermal Amplifiers - KC\\Tr=1.1\\Lauren\\\\\"\n",
    "#data_folder = r\"E:\\TR_1.0\\\\\"\n",
    "#data_folder = r\"E:\\L5\\\\\"\n",
    "data_folder = \"/Volumes/ThermalAmp/TR1-4/\"\n",
    "\n",
    "#from cmcrameri import cm"
   ]
  },
  {
   "cell_type": "code",
   "execution_count": 2,
   "id": "bca55a2f",
   "metadata": {},
   "outputs": [],
   "source": [
    "case_files = [data_folder+f for f in os.listdir(data_folder) if f.endswith('.cas.post')]\n",
    "case_files = [f for f in case_files if \"/._\" not in f]\n",
    "\n",
    "fname = os.path.join(data_folder, case_files[0])\n",
    "\n",
    "# Read the mesh data from the HDF5 file\n",
    "with h5py.File(fname, 'r') as f:\n",
    "    vertex_list = np.transpose(f['/meshes/1.post/nodes/coords/1'][:])\n",
    "\n",
    "# Extract NodeX and NodeY\n",
    "node_x = vertex_list[0]\n",
    "node_y = vertex_list[1]"
   ]
  },
  {
   "cell_type": "code",
   "execution_count": 3,
   "id": "09f41ec5",
   "metadata": {},
   "outputs": [
    {
     "name": "stdout",
     "output_type": "stream",
     "text": [
      "15000\n"
     ]
    }
   ],
   "source": [
    "# Define constants\n",
    "tw = 308\n",
    "yw = -0.015\n",
    "\n",
    "# Find *dat.post files\n",
    "data_files = [data_folder+f for f in os.listdir(data_folder) if f.endswith('.dat.post')]\n",
    "data_files = [f for f in data_files if \"/._\" not in f]\n",
    "\n",
    "def get_time(data_file):\n",
    "    return float(data_file.split(\".\")[0].split(\"-\")[-1])  #My directories\n",
    "    #return float(data_file.split(\".\")[1].split(\"-\"))  #works with the main KC directory + Grace's \n",
    "    #return float(data_file.split(\".\")[1].split(\"-\")[-1])\n",
    "\n",
    "data_files = sorted(data_files, key=get_time)\n",
    "print(len(data_files))"
   ]
  },
  {
   "cell_type": "code",
   "execution_count": 4,
   "id": "b86ef843",
   "metadata": {},
   "outputs": [],
   "source": [
    "# DOMAIN PARAMETERS - only for plotting purposes.\n",
    "Ypixels = 1080\n",
    "XMIN    = -0.25\n",
    "XMAX    = 0.25\n",
    "YMIN    = -0.015\n",
    "YMAX    = 0.085\n",
    "AspectRatio     = (XMAX-XMIN)/(YMAX-YMIN)\n",
    "Xpositions      = np.linspace(XMIN,XMAX,int(Ypixels*AspectRatio))\n",
    "Ypositions      = np.linspace(YMAX,YMIN,Ypixels)\n",
    "[xgrid,ygrid]   = np.meshgrid(Xpositions,Ypositions)\n",
    "Clim = [300, 310]\n",
    "\n",
    "\n",
    "def get_mean_contour(node_x, node_y, mean_SI):\n",
    "    \"\"\"Map cell centroid coordinates to zvalues from a datafile.\n",
    "    Interpolates the cell centers + associated z value to a uniform grid\n",
    "    for plotting purposes.\n",
    "    \"\"\"\n",
    "    \n",
    "    from scipy.interpolate import griddata\n",
    "    SI = griddata((node_x, node_y), mean_SI, (xgrid, ygrid), method='nearest', fill_value=np.nan)\n",
    "    return SI\n",
    "\n",
    "\n",
    "def get_T(node_x, node_y, data_file):\n",
    "    \"\"\"Map cell centroid coordinates to zvalues from a datafile.\n",
    "    Interpolates the cell centers + associated z value to a uniform grid\n",
    "    for plotting purposes.\n",
    "    \"\"\"\n",
    "\n",
    "    # Read temperature and velocity data from the HDF5 file\n",
    "    with h5py.File(data_file, 'r') as f:\n",
    "        T = f['/results/1.post/mixture/nodes/Static Temperature/1'][:]\n",
    "        #U = f['/results/1.post/mixture/nodes/X Velocity/1'][:]\n",
    "        #V = f['/results/1.post/mixture/nodes/Y Velocity/1'][:]\n",
    "\n",
    "        a = f['/settings/Common/'][:]   \n",
    "        flowtime = float(a[0].split()[17].decode('utf-8').split('\"')[1])\n",
    "        timestep = float(a[0].split()[14].decode('utf-8').split('\"')[1])\n",
    "\n",
    "        \n",
    "        return flowtime, timestep, T\n"
   ]
  },
  {
   "cell_type": "code",
   "execution_count": 5,
   "id": "122a86ea-1f29-4b9f-9dd3-ae7b5eb3a1a0",
   "metadata": {},
   "outputs": [],
   "source": [
    "timestep = 7000\n",
    "fname = os.path.join(data_folder, data_files[timestep])\n",
    "_,_,Tvals = get_T(node_x, node_y, data_file=fname)"
   ]
  },
  {
   "cell_type": "code",
   "execution_count": 6,
   "id": "f62cd4f3-eba7-4625-8a83-9879f2555234",
   "metadata": {},
   "outputs": [
    {
     "name": "stderr",
     "output_type": "stream",
     "text": [
      "[Parallel(n_jobs=-1)]: Using backend ThreadingBackend with 10 concurrent workers.\n"
     ]
    },
    {
     "name": "stdout",
     "output_type": "stream",
     "text": [
      "env: PYTHONWARNINGS=ignore::UserWarning\n"
     ]
    },
    {
     "name": "stderr",
     "output_type": "stream",
     "text": [
      "[Parallel(n_jobs=-1)]: Done  30 tasks      | elapsed:    1.7s\n",
      "[Parallel(n_jobs=-1)]: Done 180 tasks      | elapsed:    9.0s\n",
      "[Parallel(n_jobs=-1)]: Done 430 tasks      | elapsed:   20.9s\n",
      "[Parallel(n_jobs=-1)]: Done 780 tasks      | elapsed:   37.7s\n",
      "[Parallel(n_jobs=-1)]: Done 1230 tasks      | elapsed:   59.2s\n",
      "[Parallel(n_jobs=-1)]: Done 1780 tasks      | elapsed:  1.4min\n",
      "[Parallel(n_jobs=-1)]: Done 2430 tasks      | elapsed:  1.9min\n",
      "[Parallel(n_jobs=-1)]: Done 3180 tasks      | elapsed:  2.5min\n",
      "[Parallel(n_jobs=-1)]: Done 4030 tasks      | elapsed:  3.3min\n",
      "[Parallel(n_jobs=-1)]: Done 4980 tasks      | elapsed:  4.0min\n",
      "[Parallel(n_jobs=-1)]: Done 6030 tasks      | elapsed:  4.9min\n",
      "[Parallel(n_jobs=-1)]: Done 7180 tasks      | elapsed:  5.9min\n",
      "[Parallel(n_jobs=-1)]: Done 8430 tasks      | elapsed:  7.0min\n",
      "[Parallel(n_jobs=-1)]: Done 9780 tasks      | elapsed:  8.2min\n",
      "[Parallel(n_jobs=-1)]: Done 11230 tasks      | elapsed:  9.5min\n",
      "[Parallel(n_jobs=-1)]: Done 12780 tasks      | elapsed: 10.8min\n",
      "[Parallel(n_jobs=-1)]: Done 14430 tasks      | elapsed: 12.3min\n",
      "[Parallel(n_jobs=-1)]: Done 15000 out of 15000 | elapsed: 12.8min finished\n"
     ]
    }
   ],
   "source": [
    "from joblib import Parallel, delayed\n",
    "%env PYTHONWARNINGS=ignore::UserWarning\n",
    "        \n",
    "# Use LokyBackend tso protect the h5py routine\n",
    "SIs = Parallel(n_jobs=-1, backend='threading', verbose=1) \\\n",
    "(delayed(get_T) \\\n",
    " (node_x, node_y, data_file\n",
    " ) for data_file in data_files)"
   ]
  },
  {
   "cell_type": "code",
   "execution_count": 7,
   "id": "88d798b0-d118-4897-b006-bd4fefcfe302",
   "metadata": {},
   "outputs": [],
   "source": [
    "SIs_dat = np.array(SIs, dtype=object)\n",
    "all_Ts = SIs_dat[:,2]"
   ]
  },
  {
   "cell_type": "code",
   "execution_count": 8,
   "id": "ab2795f8-e722-4f73-8776-ff361739506f",
   "metadata": {},
   "outputs": [
    {
     "name": "stdout",
     "output_type": "stream",
     "text": [
      "(15000, 235616)\n",
      "[298.         298.00000021 298.00000021 ... 300.78884763 300.76399253\n",
      " 300.80366225]\n"
     ]
    }
   ],
   "source": [
    "all_Ts_array = np.vstack(all_Ts)\n",
    "\n",
    "# Check the shape to ensure it is (500, 235616)\n",
    "print(all_Ts_array.shape)  # Should output (500, 235616)\n",
    "\n",
    "# Calculate the timewise mean for each of the 235616 elements\n",
    "timewise_mean = np.nanmean(all_Ts_array, axis=0)\n",
    "\n",
    "# Now `timewise_mean` contains the mean value for each spatial point over the 500 time steps\n",
    "print(timewise_mean)\n"
   ]
  },
  {
   "cell_type": "markdown",
   "id": "984ff943",
   "metadata": {},
   "source": [
    "Plot the nodes with U,V,T"
   ]
  },
  {
   "cell_type": "code",
   "execution_count": 9,
   "id": "01c7c71b",
   "metadata": {},
   "outputs": [
    {
     "name": "stdout",
     "output_type": "stream",
     "text": [
      "Elapsed time: 3.158402 seconds\n"
     ]
    }
   ],
   "source": [
    "timestep = 0\n",
    "import time\n",
    "\n",
    "# Start timer\n",
    "start_time = time.time()\n",
    "\n",
    "SI = get_mean_contour(node_x, node_y, timewise_mean)\n",
    "\n",
    "# End timer\n",
    "end_time = time.time()\n",
    "\n",
    "# Calculate elapsed time\n",
    "elapsed_time = end_time - start_time\n",
    "\n",
    "print(f\"Elapsed time: {elapsed_time:.6f} seconds\")"
   ]
  },
  {
   "cell_type": "code",
   "execution_count": 16,
   "id": "ae34b9d8",
   "metadata": {},
   "outputs": [
    {
     "name": "stdout",
     "output_type": "stream",
     "text": [
      "312.00000000000006\n"
     ]
    },
    {
     "data": {
      "text/plain": [
       "<matplotlib.colorbar.Colorbar at 0x15e307010>"
      ]
     },
     "execution_count": 16,
     "metadata": {},
     "output_type": "execute_result"
    },
    {
     "data": {
      "image/png": "[encoded data removed]",
      "text/plain": [
       "<Figure size 1200x300 with 2 Axes>"
      ]
     },
     "metadata": {},
     "output_type": "display_data"
    }
   ],
   "source": [
    "# Proof that they are mapped properly\n",
    "fig, ax = plt.subplots(figsize=(12,3))\n",
    "p_ = ax.imshow(SI, extent=[XMIN, XMAX, YMIN, YMAX], alpha=0.7, cmap=cm.lipari) #cmap='Greys')\n",
    "ax.set_title(\"Temperature (K), timestep {} of {}, flowtime {}s\".format(timestep, len(data_files), timestep*0.05*2))\n",
    "print(SI.max())\n",
    "plt.plot(np.arange(-0.2, 0.21, 0.01), np.ones((np.arange(-0.2, 0.21, 0.01).shape))*-0.015, color='k', linewidth=3)\n",
    "plt.ylim([-0.015, 0.085])\n",
    "plt.xlim([-0.25, 0.25])\n",
    "plt.gca().set_aspect('equal')\n",
    "\n",
    "# Manually set x ticks and labels\n",
    "x_ticks = np.arange(-0.25, 0.26, 0.05)\n",
    "x_labels = ['Zero', 'One', 'Two', 'Three']\n",
    "ax.set_xticks(x_ticks)\n",
    "# Manually set y ticks and labels\n",
    "y_ticks = np.arange(-0.015, 0.086, 0.02)\n",
    "y_labels = ['Zero', 'Three', 'Six', 'Nine']\n",
    "ax.set_yticks(y_ticks)\n",
    "\n",
    "circle = patches.Circle((0,0), radius=0.005, edgecolor='k', facecolor='k', linewidth=2)\n",
    "\n",
    "plt.grid(alpha=0.3)\n",
    "plt.xlabel(\"Horizontal distance (m)\")\n",
    "plt.ylabel(\"Vertical distance (m)\")\n",
    "\n",
    "# Add the circle to the axis\n",
    "ax.add_patch(circle)\n",
    "\n",
    "plt.colorbar(p_)"
   ]
  },
  {
   "cell_type": "code",
   "execution_count": 11,
   "id": "f8136cc7-5696-413e-a9c5-faf12750e6b9",
   "metadata": {},
   "outputs": [],
   "source": [
    "# Save the grid data to an HDF5 file\n",
    "with h5py.File(data_folder+'average_temp.h5', 'w') as f:\n",
    "    f.create_dataset('T', data=SI)\n",
    "    f.create_dataset('node_x', data=xgrid)\n",
    "    f.create_dataset('node_y', data=ygrid)"
   ]
  },
  {
   "cell_type": "code",
   "execution_count": 12,
   "id": "0cefcf6a",
   "metadata": {},
   "outputs": [],
   "source": [
    "def get_Qavg(SI):\n",
    "\n",
    "    Tw = 308\n",
    "    Height = 0.015\n",
    "    CylinderDiameter = 0.01\n",
    "    HeightOverDiamter = Height/CylinderDiameter\n",
    "\n",
    "    Yw = -HeightOverDiamter*CylinderDiameter\n",
    "\n",
    "    # Define the combined condition for masking\n",
    "    mask_condition = (ygrid < Yw/1.02) & (xgrid < 0.2) & (xgrid > -0.2)\n",
    "    y_ = np.unique(ygrid[ygrid <= -0.0147] )\n",
    "    x_ = np.unique(xgrid[(xgrid < 0.2) & (xgrid > -0.2)])\n",
    "\n",
    "    # Apply the mask to SI\n",
    "    SI_masked = np.copy(SI)\n",
    "    SI_masked[~mask_condition] = np.nan\n",
    "\n",
    "    Y_ = np.unique(ygrid[ygrid <= Yw/1.02] )\n",
    "    Y1 = Y_[-1]\n",
    "    Y2 = Y_[-2]\n",
    "    Y3 = Y1**2\n",
    "    Y4 = Y2**2\n",
    "    K_ThermalConductivity = 0.02225\n",
    "    dTdy = []\n",
    "\n",
    "    left_wall_ind = np.where(xgrid[-1] > -0.2)[0][0]\n",
    "    right_wall_ind = np.where(xgrid[-1] > 0.2)[0][0]\n",
    "    SI_slice = SI_masked[:, left_wall_ind:right_wall_ind]\n",
    "\n",
    "    for c in range(SI_slice.shape[1]):\n",
    "        T1 = SI_slice[-1, c]\n",
    "        T2 = SI_slice[-2, c]\n",
    "        dTdy_value = (T1 * Y4 - T2 * Y3 - Tw * (Y4 - Y3)) / (Y1 * Y4 - Y2 * Y3)\n",
    "        dTdy.append(dTdy_value)\n",
    "    Qavg = np.trapz(xgrid[-1][left_wall_ind:right_wall_ind], np.array(dTdy)*K_ThermalConductivity)\n",
    "    return Qavg\n"
   ]
  },
  {
   "cell_type": "code",
   "execution_count": 13,
   "id": "146b2804",
   "metadata": {},
   "outputs": [
    {
     "name": "stderr",
     "output_type": "stream",
     "text": [
      "/var/folders/ry/3sftjhts50x0vr1cmqhbw1z40000gp/T/ipykernel_69521/2766577445.py:36: DeprecationWarning: `trapz` is deprecated. Use `trapezoid` instead, or one of the numerical integration functions in `scipy.integrate`.\n",
      "  Qavg = np.trapz(xgrid[-1][left_wall_ind:right_wall_ind], np.array(dTdy)*K_ThermalConductivity)\n"
     ]
    },
    {
     "data": {
      "text/plain": [
       "np.float64(-18.449391512552594)"
      ]
     },
     "execution_count": 13,
     "metadata": {},
     "output_type": "execute_result"
    }
   ],
   "source": [
    "get_Qavg(SI) #in W/m^2 per post file."
   ]
  },
  {
   "cell_type": "code",
   "execution_count": null,
   "id": "762568fe",
   "metadata": {},
   "outputs": [],
   "source": []
  }
 ],
 "metadata": {
  "kernelspec": {
   "display_name": "Python 3 (ipykernel)",
   "language": "python",
   "name": "python3"
  },
  "language_info": {
   "codemirror_mode": {
    "name": "ipython",
    "version": 3
   },
   "file_extension": ".py",
   "mimetype": "text/x-python",
   "name": "python",
   "nbconvert_exporter": "python",
   "pygments_lexer": "ipython3",
   "version": "3.11.9"
  }
 },
 "nbformat": 4,
 "nbformat_minor": 5
}
