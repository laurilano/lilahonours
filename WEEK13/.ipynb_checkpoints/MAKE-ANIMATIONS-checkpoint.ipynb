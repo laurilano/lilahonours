{
 "cells": [
  {
   "cell_type": "markdown",
   "id": "b5589dd5-3785-49a2-b1dd-3c48e8f920fc",
   "metadata": {},
   "source": [
    "# MAKE ANIMATIONS"
   ]
  },
  {
   "cell_type": "code",
   "execution_count": 10,
   "id": "1269e882-8e4f-4be9-b3c5-f83c453938ac",
   "metadata": {},
   "outputs": [],
   "source": [
    "import numpy as np\n",
    "import matplotlib.pyplot as plt\n",
    "from scipy.interpolate import NearestNDInterpolator\n",
    "import scipy.io\n",
    "\n",
    "from cmcrameri import cm\n",
    "import numpy as np\n",
    "import matplotlib.pyplot as plt\n",
    "import matplotlib.patches as patches\n",
    "import pandas as pd\n",
    "import os\n",
    "import h5py\n",
    "\n",
    "# Define the data folder - must i nclude .h5 cas and dat files.\n",
    "#data_folder = r\"D:\\2024 - Thermal Amplifiers - KC\\Tr=1.1\\Lauren\\\\\"\n",
    "#data_folder = r\"E:\\TR_1.0\\\\\"\n",
    "#data_folder = r\"E:\\L5\\\\\"\n",
    "from cmcrameri import cm\n",
    "\n",
    "from scipy.interpolate import griddata\n"
   ]
  },
  {
   "cell_type": "code",
   "execution_count": 2,
   "id": "ac81fc3b-4c7a-4c83-9662-6e44d4f7d95f",
   "metadata": {},
   "outputs": [],
   "source": [
    "def get_nodes_from_casefile(data_folder):\n",
    "    case_files = [data_folder+f for f in os.listdir(data_folder) if f.endswith('.cas.post')]\n",
    "    case_files = [f for f in case_files if \"/._\" not in f]\n",
    "    \n",
    "    fname = os.path.join(data_folder, case_files[0])\n",
    "    \n",
    "    # Read the mesh data from the HDF5 file\n",
    "    with h5py.File(fname, 'r') as f:\n",
    "        vertex_list = np.transpose(f['/meshes/1.post/nodes/coords/1'][:])\n",
    "    \n",
    "    # Extract NodeX and NodeY\n",
    "    node_x = vertex_list[0]\n",
    "    node_y = vertex_list[1]\n",
    "\n",
    "    return node_x, node_y"
   ]
  },
  {
   "cell_type": "code",
   "execution_count": 26,
   "id": "1a23a46e-79f5-4d24-b6b0-48a4d9bda28d",
   "metadata": {},
   "outputs": [],
   "source": [
    "# DOMAIN PARAMETERS - only for plotting purposes.\n",
    "Ypixels = 540\n",
    "XMIN    = -0.25\n",
    "XMAX    = 0.25\n",
    "YMIN    = -0.015\n",
    "YMAX    = 0.085\n",
    "AspectRatio     = (XMAX-XMIN)/(YMAX-YMIN)\n",
    "Xpositions      = np.linspace(XMIN,XMAX,int(Ypixels*AspectRatio))\n",
    "Ypositions      = np.linspace(YMAX,YMIN,Ypixels)\n",
    "[xgrid,ygrid]   = np.meshgrid(Xpositions,Ypositions)\n",
    "Clim = [300, 310]\n",
    "\n",
    "\n",
    "def plot_T(node_x, node_y, data_file, Tr):\n",
    "    \"\"\"Map cell centroid coordinates to zvalues from a datafile.\n",
    "    Interpolates the cell centers + associated z value to a uniform grid\n",
    "    for plotting purposes.\n",
    "    \"\"\"\n",
    "\n",
    "    # Read temperature and velocity data from the HDF5 file\n",
    "    with h5py.File(data_file, 'r') as f:\n",
    "        T = f['/results/1.post/mixture/nodes/Static Temperature/1'][:]\n",
    "        a = f['/settings/Common/'][:]   \n",
    "        flowtime = float(a[0].split()[17].decode('utf-8').split('\"')[1])\n",
    "        timestep = float(a[0].split()[14].decode('utf-8').split('\"')[1])\n",
    "\n",
    "        si = griddata((node_x, node_y), T, (xgrid, ygrid), method='nearest', fill_value=np.nan)\n",
    "\n",
    "        fig, ax = plt.subplots(1, 1, figsize=(3,3))\n",
    "        im = ax.imshow(si, vmax=308)\n",
    "        plt.colorbar(im, shrink=0.3)\n",
    "        plt.savefig(\"/Volumes/ThermalAmp/Animation/{}/{}-{}.png\".format(Tr, Tr, timestep), dpi=100, bbox_inches='tight')\n",
    "        plt.close()\n",
    "        return \n",
    "\n",
    "def get_time(data_file):\n",
    "    try:\n",
    "        return float(data_file.split(\".\")[0].split(\"-\")[-1])  #My directories\n",
    "        #return float(data_file.split(\".\")[1].split(\"-\"))  #works with the main KC directory + Grace's \n",
    "    except:\n",
    "        return float(data_file.split(\".\")[1].split(\"-\")[-1])"
   ]
  },
  {
   "cell_type": "code",
   "execution_count": 8,
   "id": "af6119c0-fce5-4449-8a6b-e0e88c679467",
   "metadata": {},
   "outputs": [
    {
     "name": "stdout",
     "output_type": "stream",
     "text": [
      "env: PYTHONWARNINGS=ignore::UserWarning\n"
     ]
    }
   ],
   "source": [
    "from joblib import Parallel, delayed\n",
    "%env PYTHONWARNINGS=ignore::UserWarning"
   ]
  },
  {
   "cell_type": "code",
   "execution_count": null,
   "id": "30504c18-8441-495f-b0be-0f53fd756503",
   "metadata": {},
   "outputs": [
    {
     "name": "stderr",
     "output_type": "stream",
     "text": [
      "[Parallel(n_jobs=-1)]: Using backend ThreadingBackend with 10 concurrent workers.\n",
      "[Parallel(n_jobs=-1)]: Done  30 tasks      | elapsed:    5.3s\n",
      "/var/folders/ry/3sftjhts50x0vr1cmqhbw1z40000gp/T/ipykernel_87456/1387201675.py:31: UserWarning: Adding colorbar to a different Figure <Figure size 300x300 with 2 Axes> than <Figure size 300x300 with 2 Axes> which fig.colorbar is called on.\n",
      "  plt.colorbar(im, shrink=0.3)\n",
      "/var/folders/ry/3sftjhts50x0vr1cmqhbw1z40000gp/T/ipykernel_87456/1387201675.py:31: UserWarning: Adding colorbar to a different Figure <Figure size 300x300 with 2 Axes> than <Figure size 293.034x96.9722 with 2 Axes> which fig.colorbar is called on.\n",
      "  plt.colorbar(im, shrink=0.3)\n",
      "[Parallel(n_jobs=-1)]: Done 180 tasks      | elapsed:   24.3s\n",
      "/var/folders/ry/3sftjhts50x0vr1cmqhbw1z40000gp/T/ipykernel_87456/1387201675.py:31: UserWarning: Adding colorbar to a different Figure <Figure size 300x300 with 2 Axes> than <Figure size 300x300 with 1 Axes> which fig.colorbar is called on.\n",
      "  plt.colorbar(im, shrink=0.3)\n",
      "[Parallel(n_jobs=-1)]: Done 430 tasks      | elapsed:   56.7s\n",
      "[Parallel(n_jobs=-1)]: Done 780 tasks      | elapsed:  1.7min\n",
      "/var/folders/ry/3sftjhts50x0vr1cmqhbw1z40000gp/T/ipykernel_87456/1387201675.py:31: UserWarning: Adding colorbar to a different Figure <Figure size 300x300 with 3 Axes> than <Figure size 300x300 with 1 Axes> which fig.colorbar is called on.\n",
      "  plt.colorbar(im, shrink=0.3)\n",
      "/var/folders/ry/3sftjhts50x0vr1cmqhbw1z40000gp/T/ipykernel_87456/1387201675.py:31: UserWarning: Adding colorbar to a different Figure <Figure size 300x300 with 4 Axes> than <Figure size 300x300 with 1 Axes> which fig.colorbar is called on.\n",
      "  plt.colorbar(im, shrink=0.3)\n",
      "/var/folders/ry/3sftjhts50x0vr1cmqhbw1z40000gp/T/ipykernel_87456/1387201675.py:31: UserWarning: Adding colorbar to a different Figure <Figure size 300x300 with 2 Axes> than <Figure size 300x300 with 0 Axes> which fig.colorbar is called on.\n",
      "  plt.colorbar(im, shrink=0.3)\n",
      "[Parallel(n_jobs=-1)]: Done 1230 tasks      | elapsed:  3.3min\n",
      "[Parallel(n_jobs=-1)]: Done 1780 tasks      | elapsed:  4.5min\n",
      "[Parallel(n_jobs=-1)]: Done 2430 tasks      | elapsed:  5.8min\n"
     ]
    }
   ],
   "source": [
    "Trs = [#\"NC\", 0.4,#0.8, \n",
    "    3.5, ]# 1.1, 1.2, 1.3, 1.4, 1.6, 1.8, 1.9, 2.0,2.3, 2.5, 2.7, 2.9, 3.5, 4]\n",
    "    \n",
    "cases = [\n",
    "    #\"/Volumes/ThermalAmp/Tr1-NoCyl/\",\n",
    "    \"/Volumes/ThermalAmp/Tr3.5/\",\n",
    "    #\"/Volumes/ThermalAmp/Tr0.8/\",\n",
    "    #\"/Volumes/ThermalAmp/TR1.8/\"\n",
    "]\n",
    "\n",
    "for i, data_folder in enumerate(cases):\n",
    "\n",
    "    node_x, node_y = get_nodes_from_casefile(data_folder)\n",
    "\n",
    "    os.makedirs(\"/Volumes/ThermalAmp/Animation/{}/\".format(Trs[i]), exist_ok=True)\n",
    "\n",
    "    # Find *dat.post files\n",
    "    data_files = [data_folder+f for f in os.listdir(data_folder) if f.endswith('.dat.post')]\n",
    "    data_files = [f for f in data_files if \"/._\" not in f]\n",
    "    data_files = sorted(data_files, key=get_time)\n",
    "    if \"10000.dat.post\" in data_files[3999]:\n",
    "        dats = data_files[3999:-1001]\n",
    "    else:\n",
    "        dats = data_files[0:10000]\n",
    "    \n",
    "    # Use LokyBackend tso protect the h5py routine\n",
    "    SIs = Parallel(n_jobs=-1, backend='threading', verbose=1) \\\n",
    "    (delayed(plot_T) \\\n",
    "     (node_x, node_y, data_file, Trs[i]\n",
    "     ) for data_file in dats)"
   ]
  },
  {
   "cell_type": "code",
   "execution_count": null,
   "id": "5e44d5ac-4154-4c83-8601-7c4a1e19439b",
   "metadata": {},
   "outputs": [],
   "source": [
    "data_files = [\"/Volumes/ThermalAmp/Tr1-NoCyl/\"+f for f in os.listdir(\"/Volumes/ThermalAmp/Tr1-NoCyl/\") if f.endswith('.dat.post')]\n",
    "data_files = [f for f in data_files if \"/._\" not in f]\n",
    "\n",
    "Tr = 3.5 \n",
    "\n",
    "import moviepy.editor as mpy\n",
    "frame_list = []\n",
    "timesteps = np.arange(10008.,14001.,2)\n",
    "for timestep in timesteps:\n",
    "    if os.path.getsize(\"/Volumes/ThermalAmp/Animation/{}/{}-{}.png\".format(Tr, Tr, timestep)) > 2 * 1024 :\n",
    "        frame_list.append(\n",
    "           \"/Volumes/ThermalAmp/Animation/{}/{}-{}.png\".format(Tr, Tr, timestep)\n",
    "        )\n",
    "\n",
    "clip = mpy.ImageSequenceClip(frame_list, fps=25)\n",
    "\n",
    "clip.write_videofile(\n",
    "    \"/Volumes/ThermalAmp/Animation/{}/{}.mp4\".format(Tr,Tr),\n",
    "    fps=20,\n",
    "    codec=\"libx264\",\n",
    "    bitrate=\"5000k\",\n",
    "    audio=False,\n",
    "    logger=None,\n",
    "    ffmpeg_params=[\n",
    "        \"-vf\",\n",
    "        \"pad=ceil(iw/2)*2:ceil(ih/2)*2\",\n",
    "        \"-pix_fmt\",\n",
    "        \"yuv420p\",\n",
    "    ],\n",
    ")"
   ]
  }
 ],
 "metadata": {
  "kernelspec": {
   "display_name": "Python 3 (ipykernel)",
   "language": "python",
   "name": "python3"
  },
  "language_info": {
   "codemirror_mode": {
    "name": "ipython",
    "version": 3
   },
   "file_extension": ".py",
   "mimetype": "text/x-python",
   "name": "python",
   "nbconvert_exporter": "python",
   "pygments_lexer": "ipython3",
   "version": "3.11.9"
  }
 },
 "nbformat": 4,
 "nbformat_minor": 5
}
